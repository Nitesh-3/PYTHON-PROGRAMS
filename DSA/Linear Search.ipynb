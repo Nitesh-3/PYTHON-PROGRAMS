{
 "cells": [
  {
   "cell_type": "markdown",
   "id": "8e3aec2b-3ee0-4d2c-b0b2-4ebf8c8798ed",
   "metadata": {},
   "source": [
    "# Define LinearList class for linear search"
   ]
  },
  {
   "cell_type": "code",
   "execution_count": 6,
   "id": "2e04a4b0-fac7-47cd-b912-15cac5aab580",
   "metadata": {},
   "outputs": [],
   "source": [
    "class LinearList:\n",
    "\n",
    "    def __init__(self,arr,data):\n",
    "        self.arr=arr\n",
    "        self.size=len(arr)\n",
    "        self.data=data\n",
    "        for i in self.arr:\n",
    "            if type(i)!=data:\n",
    "                print('List is not valid')\n",
    "                exit()\n",
    "                \n",
    "    def display(self):\n",
    "       print(self.arr)\n",
    "    def linearsearch(self,item):\n",
    "        for i in range(self.size):\n",
    "            if item==self.arr[i]:\n",
    "                return i\n",
    "        \n",
    "        return -1\n",
    "    def insert(self,a):\n",
    "        self.arr.append(a)\n",
    "    def delete(self,m):\n",
    "        self.arr.remove(m)"
   ]
  },
  {
   "cell_type": "code",
   "execution_count": null,
   "id": "28e18dd5-0274-452b-b060-634809d3cbdf",
   "metadata": {},
   "outputs": [],
   "source": []
  },
  {
   "cell_type": "code",
   "execution_count": 7,
   "id": "54e62a97-c889-4a84-bab4-0a8230bf0e41",
   "metadata": {},
   "outputs": [
    {
     "name": "stdout",
     "output_type": "stream",
     "text": [
      "2\n",
      "[2, 5, 4, 6, 19]\n",
      "[2, 5, 4, 6, 19, 45]\n",
      "[5, 4, 6, 19, 45]\n"
     ]
    }
   ],
   "source": [
    "obj1=LinearList([2,5,4,6,19],int)\n",
    "print(obj1.linearsearch(4))\n",
    "obj1.display()\n",
    "obj1.insert(45)\n",
    "obj1.display()\n",
    "obj1.delete(2)\n",
    "obj1.display()"
   ]
  },
  {
   "cell_type": "code",
   "execution_count": null,
   "id": "2961218a-030d-4362-8108-b1d9639e37f9",
   "metadata": {},
   "outputs": [],
   "source": []
  }
 ],
 "metadata": {
  "kernelspec": {
   "display_name": "Python 3 (ipykernel)",
   "language": "python",
   "name": "python3"
  },
  "language_info": {
   "codemirror_mode": {
    "name": "ipython",
    "version": 3
   },
   "file_extension": ".py",
   "mimetype": "text/x-python",
   "name": "python",
   "nbconvert_exporter": "python",
   "pygments_lexer": "ipython3",
   "version": "3.10.12"
  }
 },
 "nbformat": 4,
 "nbformat_minor": 5
}
