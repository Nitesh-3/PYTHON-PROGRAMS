{
 "cells": [
  {
   "cell_type": "markdown",
   "id": "a92c9f1d-a472-4a2a-b410-8ee85d97da17",
   "metadata": {},
   "source": [
    "# Define BinarySearch class for binary search"
   ]
  },
  {
   "cell_type": "code",
   "execution_count": 5,
   "id": "c1b6ff86-7113-4856-9b27-6722556c0ca0",
   "metadata": {},
   "outputs": [],
   "source": [
    "class BinaryList:\n",
    "\n",
    "    def __init__(self,arr,data):\n",
    "        self.arr=arr\n",
    "        self.size=len(arr)\n",
    "        self.data=data\n",
    "        for i in self.arr:\n",
    "            if type(i)!=data:\n",
    "                print('List is not valid')\n",
    "                exit()\n",
    "                \n",
    "    def display(self):\n",
    "       print(self.arr)\n",
    "    def BinarySearch(self,item):\n",
    "            beg=0\n",
    "            end=self.size\n",
    "            f=0\n",
    "            while beg<=end:\n",
    "                mid=(beg+end)//2\n",
    "                if self.arr[mid]==item:\n",
    "                     f=1\n",
    "                     break\n",
    "                elif self.arr[mid]<item:\n",
    "                        beg=mid+1\n",
    "                else:\n",
    "                     end=mid-1\n",
    "            if f==1:\n",
    "                print(\"item found at index\",mid)\n",
    "            else :\n",
    "                print('item not found .')\n",
    "        \n",
    "    def insert(self,a):\n",
    "        self.arr.append(a)\n",
    "    def delete(self,m):\n",
    "        self.arr.remove(m)\n",
    "        "
   ]
  },
  {
   "cell_type": "code",
   "execution_count": 6,
   "id": "0fb27722-d487-4c14-a713-155dd75b0139",
   "metadata": {},
   "outputs": [
    {
     "name": "stdout",
     "output_type": "stream",
     "text": [
      "[10, 20, 30, 45, 60]\n",
      "item found at index 0\n"
     ]
    }
   ],
   "source": [
    "l=[10,20,30,45,60]\n",
    "obj=BinaryList(l,int)\n",
    "obj.display()\n",
    "obj.BinarySearch(10)"
   ]
  },
  {
   "cell_type": "code",
   "execution_count": null,
   "id": "0cf7cecf-cd78-4557-8f76-965fcd16356b",
   "metadata": {},
   "outputs": [],
   "source": []
  }
 ],
 "metadata": {
  "kernelspec": {
   "display_name": "Python 3 (ipykernel)",
   "language": "python",
   "name": "python3"
  },
  "language_info": {
   "codemirror_mode": {
    "name": "ipython",
    "version": 3
   },
   "file_extension": ".py",
   "mimetype": "text/x-python",
   "name": "python",
   "nbconvert_exporter": "python",
   "pygments_lexer": "ipython3",
   "version": "3.10.12"
  }
 },
 "nbformat": 4,
 "nbformat_minor": 5
}
